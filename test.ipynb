{
 "cells": [
  {
   "cell_type": "code",
   "execution_count": 1,
   "id": "bigger-grace",
   "metadata": {},
   "outputs": [
    {
     "name": "stdout",
     "output_type": "stream",
     "text": [
      "김\n",
      "영\n",
      "재\n",
      " \n",
      "입\n",
      "니\n",
      "다\n"
     ]
    }
   ],
   "source": [
    "import time\n",
    "txt = '김영재 입니다'\n",
    "for i in txt:\n",
    "    print(i)\n",
    "    time.sleep(0.5) # 아이디를 너무 빨리 치면 에러가 발생할 수도 있으니까 천천히 치도록 time 모듈 사용"
   ]
  },
  {
   "cell_type": "code",
   "execution_count": null,
   "id": "hollow-medication",
   "metadata": {},
   "outputs": [],
   "source": []
  }
 ],
 "metadata": {
  "kernelspec": {
   "display_name": "Python 3",
   "language": "python",
   "name": "python3"
  },
  "language_info": {
   "codemirror_mode": {
    "name": "ipython",
    "version": 3
   },
   "file_extension": ".py",
   "mimetype": "text/x-python",
   "name": "python",
   "nbconvert_exporter": "python",
   "pygments_lexer": "ipython3",
   "version": "3.8.5"
  }
 },
 "nbformat": 4,
 "nbformat_minor": 5
}
