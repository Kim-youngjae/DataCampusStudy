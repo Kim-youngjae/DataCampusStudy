{
 "cells": [
  {
   "cell_type": "code",
   "execution_count": 6,
   "id": "hollow-medication",
   "metadata": {},
   "outputs": [],
   "source": [
    "test = [1, 2, 3, 4, 5]\n",
    "test1 = ['a', 'b', 'c', 'd', 'e']\n",
    "\n",
    "import pandas as pd\n",
    "\n",
    "series1 = pd.Series(test)\n",
    "series2 = pd.Series(test1)"
   ]
  },
  {
   "cell_type": "code",
   "execution_count": 7,
   "id": "arctic-workplace",
   "metadata": {},
   "outputs": [
    {
     "data": {
      "text/plain": [
       "0    1\n",
       "1    2\n",
       "2    3\n",
       "3    4\n",
       "4    5\n",
       "dtype: int64"
      ]
     },
     "execution_count": 7,
     "metadata": {},
     "output_type": "execute_result"
    }
   ],
   "source": [
    "series1"
   ]
  },
  {
   "cell_type": "code",
   "execution_count": 8,
   "id": "hollow-ghost",
   "metadata": {},
   "outputs": [
    {
     "data": {
      "text/plain": [
       "0    a\n",
       "1    b\n",
       "2    c\n",
       "3    d\n",
       "4    e\n",
       "dtype: object"
      ]
     },
     "execution_count": 8,
     "metadata": {},
     "output_type": "execute_result"
    }
   ],
   "source": [
    "series2"
   ]
  },
  {
   "cell_type": "code",
   "execution_count": 21,
   "id": "raised-billy",
   "metadata": {},
   "outputs": [
    {
     "name": "stdout",
     "output_type": "stream",
     "text": [
      "   0  1  2  3  4\n",
      "0  1  2  3  4  5\n",
      "1  a  b  c  d  e\n",
      "<class 'pandas.core.frame.DataFrame'>\n"
     ]
    }
   ],
   "source": [
    "df = pd.DataFrame([series1, series2])\n",
    "\n",
    "print(df)\n",
    "print(type(df))"
   ]
  },
  {
   "cell_type": "code",
   "execution_count": 22,
   "id": "musical-spanking",
   "metadata": {},
   "outputs": [],
   "source": [
    "Series_1 = pd.Series(['S1', 'S2', 'S3'], name='S')\n",
    "Series_2 = pd.Series(['0', '1', '2'])\n",
    "Series_3 = pd.Series(['3', '4', '5'])"
   ]
  },
  {
   "cell_type": "code",
   "execution_count": 29,
   "id": "thermal-somerset",
   "metadata": {},
   "outputs": [
    {
     "data": {
      "text/plain": [
       "0    S1\n",
       "1    S2\n",
       "2    S3\n",
       "Name: S, dtype: object"
      ]
     },
     "execution_count": 29,
     "metadata": {},
     "output_type": "execute_result"
    }
   ],
   "source": [
    "Series_1"
   ]
  },
  {
   "cell_type": "code",
   "execution_count": 24,
   "id": "appropriate-registration",
   "metadata": {},
   "outputs": [
    {
     "data": {
      "text/plain": [
       "0    0\n",
       "1    1\n",
       "2    2\n",
       "dtype: object"
      ]
     },
     "execution_count": 24,
     "metadata": {},
     "output_type": "execute_result"
    }
   ],
   "source": [
    "Series_2"
   ]
  },
  {
   "cell_type": "code",
   "execution_count": 25,
   "id": "assumed-canvas",
   "metadata": {},
   "outputs": [
    {
     "data": {
      "text/plain": [
       "0    3\n",
       "1    4\n",
       "2    5\n",
       "dtype: object"
      ]
     },
     "execution_count": 25,
     "metadata": {},
     "output_type": "execute_result"
    }
   ],
   "source": [
    "Series_3"
   ]
  },
  {
   "cell_type": "code",
   "execution_count": 36,
   "id": "continent-effect",
   "metadata": {},
   "outputs": [
    {
     "data": {
      "text/plain": [
       "pandas.core.series.Series"
      ]
     },
     "execution_count": 36,
     "metadata": {},
     "output_type": "execute_result"
    }
   ],
   "source": [
    "test1 = pd.concat([Series_1, Series_2, Series_3])\n",
    "type(test1) # 세로로 합치면 시리즈가 반환"
   ]
  },
  {
   "cell_type": "code",
   "execution_count": 37,
   "id": "hydraulic-webmaster",
   "metadata": {},
   "outputs": [
    {
     "data": {
      "text/plain": [
       "pandas.core.frame.DataFrame"
      ]
     },
     "execution_count": 37,
     "metadata": {},
     "output_type": "execute_result"
    }
   ],
   "source": [
    "test2 = pd.concat([Series_1, Series_2, Series_3], axis=1)\n",
    "type(test2) # 열 방향으로 합치면 데이터 프레임을 반환"
   ]
  }
 ],
 "metadata": {
  "kernelspec": {
   "display_name": "Python 3",
   "language": "python",
   "name": "python3"
  },
  "language_info": {
   "codemirror_mode": {
    "name": "ipython",
    "version": 3
   },
   "file_extension": ".py",
   "mimetype": "text/x-python",
   "name": "python",
   "nbconvert_exporter": "python",
   "pygments_lexer": "ipython3",
   "version": "3.8.5"
  }
 },
 "nbformat": 4,
 "nbformat_minor": 5
}
