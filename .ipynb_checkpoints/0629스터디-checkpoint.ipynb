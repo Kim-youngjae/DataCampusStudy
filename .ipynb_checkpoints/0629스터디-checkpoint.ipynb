{
 "cells": [
  {
   "cell_type": "markdown",
   "id": "advised-corner",
   "metadata": {},
   "source": [
    "# 내가 잘 안되는 부분"
   ]
  },
  {
   "cell_type": "markdown",
   "id": "identical-counter",
   "metadata": {},
   "source": [
    "## 리스트"
   ]
  },
  {
   "cell_type": "markdown",
   "id": "cosmetic-snapshot",
   "metadata": {},
   "source": [
    "- 리스트는 여러가지 자료형의 집합을 표현할 수 있다.\n",
    "- 리스트는 시퀀스 데이터 -> 순서가 존재한다!\n",
    "- 우리는 리스트 안에있는 데이터를 순서대로 접근 가능하고 인덱스를 이용하여\n",
    "- 리스트안에서 찾고자 하는 데이터의 위치를 알 수 있다! -> 순서 데이터이기 때문!"
   ]
  },
  {
   "cell_type": "markdown",
   "id": "ceramic-charter",
   "metadata": {},
   "source": [
    "- 리스트를 만드는 방법\n",
    "- 대괄호 []를 이용하여 그 안에 값을 넣어준다"
   ]
  },
  {
   "cell_type": "code",
   "execution_count": null,
   "id": "focal-girlfriend",
   "metadata": {},
   "outputs": [],
   "source": [
    "a = [1, 2, 3, 4, 5] # 정수형으로만 이루어진 리스트\n",
    "\n",
    "b = ['apple', 1, 2, 'cat', 3] # 문자열과 정수형으로 이루어진 리스트\n",
    "\n",
    "c = [] # 아무 값이 없는 리스트를 지정할 수도 있다"
   ]
  },
  {
   "cell_type": "code",
   "execution_count": null,
   "id": "coral-price",
   "metadata": {},
   "outputs": [],
   "source": [
    "d = list() # 이와 같이 변수에다가 함수를 사용하여 리스트를 만들 수도 있다.\n",
    "# 이 경우는 d는 비어있는 리스트를 뜻한다."
   ]
  },
  {
   "cell_type": "markdown",
   "id": "romantic-monitor",
   "metadata": {},
   "source": [
    "- 리스트는 리스트끼리 연산이 가능하다"
   ]
  },
  {
   "cell_type": "code",
   "execution_count": null,
   "id": "smart-avatar",
   "metadata": {},
   "outputs": [],
   "source": [
    "print(a + b) # 출력 결과로 a 리스트와 b 리스트가 이어 붙여진 것을 볼 수 있다!\n",
    "\n",
    "# extend()와는 다르다"
   ]
  },
  {
   "cell_type": "markdown",
   "id": "impressive-affiliation",
   "metadata": {},
   "source": [
    "- 리스트를 곱할 수도 있다"
   ]
  },
  {
   "cell_type": "code",
   "execution_count": null,
   "id": "planned-auction",
   "metadata": {},
   "outputs": [],
   "source": [
    "A = a * 3\n",
    "print(A) # 곱셈 연산자를 사용한다. 결과는 3을 곱해서 3번이 반복되어 연결된다."
   ]
  },
  {
   "cell_type": "markdown",
   "id": "confused-humanitarian",
   "metadata": {},
   "source": [
    "## 리스트 인덱싱 예제\n",
    "\n",
    "a = ['dog', 'cat', 1, 2, 'lion', 3]라는 리스트가 있으면\n",
    "\n",
    "a[0] -> dog를 가리킴\n",
    "\n",
    "a[1] -> cat를 가리킴\n",
    "\n",
    "a[2] -> 1을 가리킴\n",
    "\n",
    "a[3] -> 2를 가리킴\n",
    "\n",
    "a[4] -> lion을 가리킴\n",
    "\n",
    "a[5] -> 3을 가리킴\n",
    "\n",
    "- 항상 0번부터 시작한다는 것 잊지 말자\n",
    "\n",
    "알쓸신잡:\n",
    "\n",
    "길이가 N인 리스트를 인덱스 할 수 있는 범위는?\n",
    "\n",
    "양수: 0 ~ N-1 까지\n",
    "음수: -N ~ -1 까지\n",
    "\n",
    "결론적으로 -N 부터 N-1 구간까지 접근이 가능하다"
   ]
  },
  {
   "cell_type": "markdown",
   "id": "million-coupon",
   "metadata": {},
   "source": [
    "## 리스트 값을 수정하고 싶을 때?\n",
    "\n",
    "- 리스트의 인덱스 번호로 접근해서 값을 수정할 수 있다"
   ]
  },
  {
   "cell_type": "code",
   "execution_count": null,
   "id": "resistant-delicious",
   "metadata": {},
   "outputs": [],
   "source": [
    "a = [111, 222, 333, 444]\n",
    "\n",
    "print(a) # 수정하기 전의 리스트\n",
    "\n",
    "# a의 2번째 값을 cat으로 수정하고 싶을 때\n",
    "a[1] = 'cat'\n",
    "\n",
    "print(a) # 수정한 후의 리스트"
   ]
  },
  {
   "cell_type": "markdown",
   "id": "passing-plymouth",
   "metadata": {},
   "source": [
    "## 리스트 슬라이싱\n",
    "\n",
    "- slice 자르다의 의미로 생각하고 내가 원하는 리스트의 부분을 잘라서 볼 수 있다고 생각하자"
   ]
  },
  {
   "cell_type": "code",
   "execution_count": 36,
   "id": "gothic-passion",
   "metadata": {},
   "outputs": [
    {
     "name": "stdout",
     "output_type": "stream",
     "text": [
      "1번 결과: [111, 222, 333, 444]\n",
      "2번 결과: [111, 222, 333, 444]\n",
      "3번 결과: [222, 333]\n",
      "4번 결과: [222, 333, 444]\n",
      "5번 결과: [111, 222, 333, 444]\n",
      "6번 결과: 444\n",
      "7번 결과: [111, 222, 333]\n"
     ]
    }
   ],
   "source": [
    "a = [111, 222, 333, 444]\n",
    "\n",
    "print('1번 결과:', a[0:4]) # 리스트의 처음부터 끝까지\n",
    "\n",
    "print('2번 결과:', a[0:]) # 뒤에 아무것도 안붙이면 끝까지 검색\n",
    "\n",
    "print('3번 결과:', a[1:3]) # 일반적으로 1에서 3까지 슬라이스를 하면 출력은 1부터 3-1인 2까지의 결과가 출력된다\n",
    "\n",
    "print('4번 결과:', a[1:6]) # 그냥 해봤는데 인덱스 번호가 넘어가도록 슬라이싱을 해주어도 끝까지만 출력된다.\n",
    "\n",
    "print('5번 결과:', a[:]) # 인덱스 번호를 아무것도 하지 지정하지 않으면 처음부터 끝까지 다 출력\n",
    "\n",
    "print('6번 결과:', a[-1]) # 엥 a[:-1]을 하면 333까지만 출력되는데 a[-1]은 444가 출력되네...\n",
    "\n",
    "print('7번 결과:', a[:-1])"
   ]
  },
  {
   "cell_type": "code",
   "execution_count": 37,
   "id": "filled-precipitation",
   "metadata": {},
   "outputs": [
    {
     "name": "stdout",
     "output_type": "stream",
     "text": [
      "[111, 222, 333, 444]\n",
      "[111, 333, 444]\n",
      "[444]\n"
     ]
    }
   ],
   "source": [
    "print(a)\n",
    "\n",
    "del(a[1]) # 리스트의 특정 범위나 요소를 삭제하는 함수\n",
    "print(a)\n",
    "\n",
    "del(a[0:2])\n",
    "print(a)"
   ]
  },
  {
   "cell_type": "code",
   "execution_count": 5,
   "id": "minor-township",
   "metadata": {},
   "outputs": [
    {
     "name": "stdout",
     "output_type": "stream",
     "text": [
      "a1234b1234c1234d\n"
     ]
    }
   ],
   "source": [
    "a = '1234'.join('abcd')\n",
    "print(a)"
   ]
  },
  {
   "cell_type": "markdown",
   "id": "lonely-tender",
   "metadata": {},
   "source": [
    "# 딕셔너리 자료형"
   ]
  },
  {
   "cell_type": "markdown",
   "id": "prepared-greenhouse",
   "metadata": {},
   "source": [
    "- key와 value 값을 한 쌍으로 들고 있다\n"
   ]
  },
  {
   "cell_type": "markdown",
   "id": "married-appraisal",
   "metadata": {},
   "source": [
    "# 불(bool)자료형"
   ]
  },
  {
   "cell_type": "code",
   "execution_count": null,
   "id": "hybrid-section",
   "metadata": {},
   "outputs": [],
   "source": [
    "print('1:', bool(-1)) # 0 이외에는 음수도 참으로 출력된다\n",
    "\n",
    "print('2:', bool('')) # 아무것도 없더나 비어있으면 False가 출력 된다\n",
    "\n",
    "print('3:', bool([]), '\\n4:', bool({}), '\\n5:', bool(())) # 자료형들 역시 비어있으면 False가 출력 된다\n",
    "\n",
    "print('6:', bool([1])) # 값이 하나라도 들어가면 True로 출력이 된다"
   ]
  },
  {
   "cell_type": "markdown",
   "id": "greatest-university",
   "metadata": {},
   "source": [
    "## 자료형을 왜 쓸까?\n",
    "\n",
    "- 자료를 저장할 때 구분을 지어주기 위해서\n",
    "- 파이썬은 자료형을 정해주고 할당을 하면 할당할 때의 자료형을 변수가 가져간다"
   ]
  },
  {
   "cell_type": "markdown",
   "id": "bearing-queen",
   "metadata": {},
   "source": [
    "# 얕은 복사와 깊은 복사 => 파이참에 메모한거 있음\n",
    "\n",
    "- 리스트를 그냥 할당 시킬 때 에러가 뜰 때가 있다\n",
    "- 이 부분 한번 짚고 넘어갈 필요가 있음\n",
    "- 문법적으로 에러는 없는데 복사가 안되어서 에러가 뜨는 경우이기 때문이다."
   ]
  },
  {
   "cell_type": "markdown",
   "id": "reduced-deadline",
   "metadata": {},
   "source": [
    "## About print() 기능"
   ]
  },
  {
   "cell_type": "code",
   "execution_count": null,
   "id": "honey-multiple",
   "metadata": {},
   "outputs": [],
   "source": [
    "print('a', 'b', 'c', sep='@') # sep는 구분자, a, b, c라는 문자열 사이에 @로 구분되어 출력된다"
   ]
  },
  {
   "cell_type": "code",
   "execution_count": null,
   "id": "everyday-compound",
   "metadata": {},
   "outputs": [],
   "source": [
    "print('I like ', end='') # print()는 자동 줄바꿈이 되는데 end=''를 하게되면 줄바꿈이 생기지 않는다\n",
    "\n",
    "print('cat')"
   ]
  },
  {
   "cell_type": "code",
   "execution_count": null,
   "id": "gothic-latino",
   "metadata": {},
   "outputs": [],
   "source": [
    "boy = '철수'\n",
    "\n",
    "pet = '고양이'\n",
    "\n",
    "print(f'{boy}는 {pet}를 키운다') # f포맷팅 사용방법"
   ]
  },
  {
   "cell_type": "code",
   "execution_count": null,
   "id": "suited-patio",
   "metadata": {},
   "outputs": [],
   "source": [
    "a = '''\n",
    "hello my name\n",
    "is\n",
    "youngjae\n",
    "'''\n",
    "\n",
    "print(id(a))"
   ]
  },
  {
   "cell_type": "markdown",
   "id": "widespread-linux",
   "metadata": {},
   "source": [
    "## About in & not in"
   ]
  },
  {
   "cell_type": "code",
   "execution_count": null,
   "id": "strategic-qatar",
   "metadata": {},
   "outputs": [],
   "source": [
    "# 과일찾기\n",
    "a = ['apple', 'banana', 'grape']\n",
    "\n",
    "fruit = input('찾는 과일은:')\n",
    "\n",
    "if fruit in a: # 조건문에 활용할 수 있다\n",
    "    print(f'{fruit}는 있습니다')\n",
    "else: print(f'{fruit}는 없습니다')"
   ]
  },
  {
   "cell_type": "markdown",
   "id": "cordless-developer",
   "metadata": {},
   "source": [
    "# About while문\n",
    "\n",
    "- 조건이 참인 동안에 실행되고 거짓인 경우 while문을 빠져나간다!\n",
    "- while문은 중첩해서 사용 가능하다"
   ]
  },
  {
   "cell_type": "code",
   "execution_count": null,
   "id": "compound-insider",
   "metadata": {},
   "outputs": [],
   "source": [
    "# for문을 활용했을 때\n",
    "# 1부터 100까지 합을 구하기\n",
    "sum = 0\n",
    "\n",
    "for i in range(1, 100):\n",
    "    sum += i\n",
    "print(sum)"
   ]
  },
  {
   "cell_type": "code",
   "execution_count": null,
   "id": "municipal-typing",
   "metadata": {},
   "outputs": [],
   "source": [
    "# while문을 활용\n",
    "# 1부터 100까지 합\n",
    "\n",
    "sum = 0\n",
    "i = 1\n",
    "while i < 100:\n",
    "    sum += i\n",
    "    i += 1\n",
    "print(sum)"
   ]
  },
  {
   "cell_type": "code",
   "execution_count": 1,
   "id": "beneficial-cedar",
   "metadata": {},
   "outputs": [
    {
     "name": "stdout",
     "output_type": "stream",
     "text": [
      "2\n",
      "3\n",
      "4\n",
      "5\n",
      "6\n",
      "7\n",
      "8\n",
      "9\n"
     ]
    }
   ],
   "source": [
    "i = 2 # 초기화한 변수의 값부터 시작한다\n",
    "while i in range(1, 10): # while안에 range도 가능\n",
    "    print(i)\n",
    "    i += 1"
   ]
  },
  {
   "cell_type": "markdown",
   "id": "established-cisco",
   "metadata": {},
   "source": [
    "# About range"
   ]
  },
  {
   "cell_type": "code",
   "execution_count": 17,
   "id": "immune-riding",
   "metadata": {},
   "outputs": [
    {
     "name": "stdout",
     "output_type": "stream",
     "text": [
      "1\n",
      "2\n",
      "3\n",
      "4\n",
      "5\n",
      "6\n",
      "7\n",
      "8\n",
      "9\n"
     ]
    }
   ],
   "source": [
    "for i in range(1, 10): # 1부터 n-1까지의 범위\n",
    "    print(i)"
   ]
  },
  {
   "cell_type": "code",
   "execution_count": 18,
   "id": "recreational-landing",
   "metadata": {},
   "outputs": [
    {
     "name": "stdout",
     "output_type": "stream",
     "text": [
      "1\n",
      "3\n",
      "5\n",
      "7\n",
      "9\n"
     ]
    }
   ],
   "source": [
    "for i in range(1, 10, 2): # range(초기 숫자, 마지막 숫자, step수)\n",
    "    print(i)"
   ]
  },
  {
   "cell_type": "markdown",
   "id": "junior-saskatchewan",
   "metadata": {},
   "source": [
    "- 리스트 요소들도 뽑아 올 수 있다"
   ]
  },
  {
   "cell_type": "code",
   "execution_count": 19,
   "id": "technical-brisbane",
   "metadata": {
    "scrolled": false
   },
   "outputs": [
    {
     "name": "stdout",
     "output_type": "stream",
     "text": [
      "apple\n",
      "banana\n",
      "grape\n"
     ]
    }
   ],
   "source": [
    "a = ['apple', 'banana', 'grape']\n",
    "\n",
    "for fruit in a:\n",
    "    print(fruit)"
   ]
  },
  {
   "cell_type": "code",
   "execution_count": 20,
   "id": "leading-pound",
   "metadata": {},
   "outputs": [
    {
     "name": "stdout",
     "output_type": "stream",
     "text": [
      "0 1 2 3 4 5 6 7 8 9 "
     ]
    }
   ],
   "source": [
    "for i in range(10):\n",
    "    print(i, end=' ')"
   ]
  },
  {
   "cell_type": "markdown",
   "id": "tested-darwin",
   "metadata": {},
   "source": [
    "### 실습\n",
    "-  A 학급에 총 10명의 학생이 있다. 이 학생들의 중간고사 점수는 다음과 같다.\n",
    "\n",
    "    [70, 60, 55, 75, 95, 90, 80, 80, 85, 100]\n",
    "\n",
    "    for문을 사용하여 A 학급의 평균 점수를 구하시오.\n"
   ]
  },
  {
   "cell_type": "code",
   "execution_count": 39,
   "id": "fiscal-chair",
   "metadata": {},
   "outputs": [
    {
     "name": "stdout",
     "output_type": "stream",
     "text": [
      "79.0\n"
     ]
    }
   ],
   "source": [
    "A = [70, 60, 55, 75, 95, 90, 80, 80, 85, 100]\n",
    "avg = 0\n",
    "sum = 0\n",
    "for i in A:\n",
    "    sum += i\n",
    "avg = sum / len(A)\n",
    "print(avg)"
   ]
  },
  {
   "cell_type": "code",
   "execution_count": 51,
   "id": "national-situation",
   "metadata": {},
   "outputs": [
    {
     "name": "stdout",
     "output_type": "stream",
     "text": [
      "A: 1, 2, 3, 4, 5, 6, 7, 8, 9, 10\n",
      "끝!\n",
      "B: 1, 2, 3, 4, 5, 6, 7, 8, 9, 10\n",
      "끝!\n",
      "C: 1, 2, 3, 4, 5, 6, 7, 8, 9, 10\n",
      "끝!\n",
      "D: 1, 2, 3, 4, 5, 6, 7, 8, 9, 10\n",
      "끝!\n",
      "E: 1, 2, 3, 4, 5, 6, 7, 8, 9, 10\n",
      "끝!\n",
      "F: 1, 2, 3, 4, 5, 6, 7, 8, 9, 10\n",
      "끝!\n"
     ]
    }
   ],
   "source": [
    "# 중첩 for문\n",
    "\n",
    "a = ['A', 'B', 'C', 'D', 'E', 'F']\n",
    "\n",
    "for i in a:\n",
    "    print(i, end=': ')\n",
    "    for j in range(1, 11):\n",
    "        if j == 10:\n",
    "            print(j)\n",
    "        else:\n",
    "            print(j, end=', ')\n",
    "    print('끝!')"
   ]
  },
  {
   "cell_type": "markdown",
   "id": "accepted-syndrome",
   "metadata": {},
   "source": [
    "## About 함수"
   ]
  },
  {
   "cell_type": "code",
   "execution_count": 59,
   "id": "fantastic-fiction",
   "metadata": {},
   "outputs": [
    {
     "data": {
      "text/plain": [
       "6"
      ]
     },
     "execution_count": 59,
     "metadata": {},
     "output_type": "execute_result"
    }
   ],
   "source": [
    "def add_many(*args):\n",
    "    result = 0\n",
    "    for i in args:\n",
    "        result = result + i\n",
    "    return result\n",
    "\n",
    "add_many(1, 2, 3) # 매개변수가 튜플형태로 들어간다고 생각\n",
    "\n",
    "# 별 표시의 의미? 매개 변수를 여러개를 받을 수 있다"
   ]
  },
  {
   "cell_type": "code",
   "execution_count": 69,
   "id": "mediterranean-rhythm",
   "metadata": {},
   "outputs": [
    {
     "name": "stdout",
     "output_type": "stream",
     "text": [
      "6\n",
      "12\n",
      "<class 'int'>\n"
     ]
    }
   ],
   "source": [
    "# 덧셈, 뺄셈 함수\n",
    "\n",
    "def add_mul(choice, *args):\n",
    "    if choice == 'add':\n",
    "        result = 0\n",
    "        for i in args:\n",
    "            result = result + i\n",
    "    elif choice == 'mul':\n",
    "        result = 1\n",
    "        for i in args:\n",
    "            result = result * i\n",
    "    return result\n",
    "\n",
    "result = add_mul('add', 1, 2, 3)\n",
    "\n",
    "print(result)\n",
    "\n",
    "result = add_mul('mul', 2, 2, 3)\n",
    "\n",
    "print(result)"
   ]
  },
  {
   "cell_type": "code",
   "execution_count": 74,
   "id": "electric-simulation",
   "metadata": {},
   "outputs": [
    {
     "name": "stdout",
     "output_type": "stream",
     "text": [
      "(7, 12)\n",
      "<class 'tuple'>\n",
      "7 12\n",
      "<class 'int'> <class 'int'>\n"
     ]
    }
   ],
   "source": [
    "def sum_and_mul(a, b):\n",
    "    return a + b, a * b # 리턴을 두 개 한다고 결과값이 두개를 가지는 것이 아니다 결과 값을 언제나 하나만 가진다\n",
    "\n",
    "result = sum_and_mul(3, 4)\n",
    "\n",
    "print(result)\n",
    "print(type(result))\n",
    "\n",
    "sum, mul = sum_and_mul(3, 4) # 하지만 두 개를 리턴하니까 두 개의 변수에 할당하면 리턴한 데이터 타입으로 리턴한다\n",
    "print(sum , mul)\n",
    "print(type(sum), type(mul))"
   ]
  },
  {
   "cell_type": "markdown",
   "id": "lucky-basics",
   "metadata": {},
   "source": [
    "- 초기값을 설정한 변수가 제일 뒤에 있지 않으면 에러 발생"
   ]
  },
  {
   "cell_type": "markdown",
   "id": "catholic-moses",
   "metadata": {},
   "source": [
    "## About lambda"
   ]
  },
  {
   "cell_type": "markdown",
   "id": "varying-azerbaijan",
   "metadata": {},
   "source": [
    "- lambda는 일회용 함수라고 생각하면 된다\n",
    "- def 함수를 사용해야 할 정도로 복잡하지 않거나 def를 사용할 수 없는 곳에 주로 쓰임"
   ]
  },
  {
   "cell_type": "code",
   "execution_count": 77,
   "id": "cardiovascular-rapid",
   "metadata": {},
   "outputs": [
    {
     "name": "stdout",
     "output_type": "stream",
     "text": [
      "7\n"
     ]
    }
   ],
   "source": [
    "# 예제\n",
    "\n",
    "add = lambda a, b: a + b\n",
    "result = add(3, 4)\n",
    "print(result)"
   ]
  },
  {
   "cell_type": "markdown",
   "id": "quick-bulgarian",
   "metadata": {},
   "source": [
    "## About 파일 입출력\n",
    "\n",
    "- r: 읽기 모드(파일을 읽기만 할 때 사용)\n",
    "- w: 쓰기모드(파일에 내용을 쓸 때 사용) 쓰는 것은 문자열로 써야한다\n",
    "- a: 추가모드(파일의 마지막에 새로운 내용을 추가할 때 사용)"
   ]
  },
  {
   "cell_type": "code",
   "execution_count": 105,
   "id": "norman-measurement",
   "metadata": {},
   "outputs": [],
   "source": [
    "f = open('0629.txt', 'w') # open()함수를 이용하여 파일을 생성하고 f라는 변수에 할당\n",
    "f.write('안녕하세요\\n') # 줄 바꿈을 해주지 않으면 그대로 써진다\n",
    "f.write('제 이름은 김영재입니다')\n",
    "\n",
    "f.close() # 파일을 열고난 후에는 항상 파일을 닫아줘야 한다!"
   ]
  },
  {
   "cell_type": "code",
   "execution_count": 106,
   "id": "hawaiian-certification",
   "metadata": {},
   "outputs": [
    {
     "name": "stdout",
     "output_type": "stream",
     "text": [
      "추가할 문장:1번째 줄\n",
      "1\n",
      "추가할 문장:2번쨰\n",
      "2\n",
      "추가할 문장:3번째\n",
      "3\n"
     ]
    }
   ],
   "source": [
    "f = open('0629.txt', 'a')\n",
    "f.write('\\n')\n",
    "for i in range(3):\n",
    "    a = input('추가할 문장:') # 문장을 직접 입력 받아서 저장할 수도 있다\n",
    "    print(i+1)\n",
    "    f.write(a)\n",
    "    f.write('\\n')\n",
    "f.close()"
   ]
  },
  {
   "cell_type": "markdown",
   "id": "polar-vaccine",
   "metadata": {},
   "source": [
    "## 파일 읽어오기"
   ]
  },
  {
   "cell_type": "code",
   "execution_count": 107,
   "id": "agricultural-extraction",
   "metadata": {},
   "outputs": [
    {
     "name": "stdout",
     "output_type": "stream",
     "text": [
      "['안녕하세요\\n', '제 이름은 김영재입니다\\n', '1번째 줄\\n', '2번쨰\\n', '3번째\\n']\n",
      "<class 'list'>\n"
     ]
    }
   ],
   "source": [
    "f = open('0629.txt', 'r')\n",
    "line = f.readlines()\n",
    "print(line)\n",
    "f.close()\n",
    "print(type(line)) # 리스트 형태로 불러와진다"
   ]
  },
  {
   "cell_type": "code",
   "execution_count": 108,
   "id": "established-armenia",
   "metadata": {},
   "outputs": [
    {
     "name": "stdout",
     "output_type": "stream",
     "text": [
      "안녕하세요\n",
      "\n",
      "제 이름은 김영재입니다\n",
      "\n",
      "1번째 줄\n",
      "\n",
      "2번쨰\n",
      "\n",
      "3번째\n",
      "\n"
     ]
    }
   ],
   "source": [
    "for i in line:\n",
    "    print(i)"
   ]
  },
  {
   "cell_type": "markdown",
   "id": "reasonable-roman",
   "metadata": {},
   "source": [
    "### 실습\n",
    "\n",
    "- 10명 학생의 점수가 [70, 60, 55, 75, 95, 90, 80, 80, 85, 100]이다. 이를 파일(score.txt)에 저장하시오.\n",
    "\n",
    "- score.txt 파일에 저장한 점수를 불러와서 총점과 평균을 구하시오."
   ]
  },
  {
   "cell_type": "code",
   "execution_count": 136,
   "id": "brief-religion",
   "metadata": {},
   "outputs": [
    {
     "name": "stdout",
     "output_type": "stream",
     "text": [
      "79.0\n"
     ]
    }
   ],
   "source": [
    "score = ['70, 60, 55, 75, 95, 90, 80, 80, 85, 100']\n",
    "\n",
    "sum_ = 0\n",
    "\n",
    "with open('score.txt', 'w') as f:\n",
    "    for i in score:\n",
    "        f.write(str(i))\n",
    "        f.write(' ')\n",
    "\n",
    "f = open('score.txt', 'r')\n",
    "line = f.readline()\n",
    "f.close()\n",
    "\n",
    "list_score = line.split(',')\n",
    "for i in list_score:\n",
    "    sum_ = sum_ + int(i)\n",
    "\n",
    "avg = sum_/len(list_score)\n",
    "print(avg)"
   ]
  },
  {
   "cell_type": "code",
   "execution_count": 195,
   "id": "progressive-exhibition",
   "metadata": {},
   "outputs": [
    {
     "name": "stdout",
     "output_type": "stream",
     "text": [
      "79.0\n"
     ]
    }
   ],
   "source": [
    "class_score = [70, 60, 55, 75, 95, 90, 80, 80, 85, 100]\n",
    "total = 0\n",
    "with open('score1.txt', 'w') as f:\n",
    "    for i in range(len(class_score)):\n",
    "        f.write(str(class_score[i]) + '\\n') # write(이 안에 문자열이 들어가니까 문자열끼리 연산이 가능해서 + \\n이 가능하다)\n",
    "        \n",
    "with open('score1.txt', 'r') as f:\n",
    "    while True: # 무한 루프 안에서\n",
    "        line = f.readline() # f.readline()을 사용해서 계속해서 한 줄씩 읽어옴\n",
    "        if not line: break # 더 이상 읽을 line이 없으면 break\n",
    "        score = int(line)\n",
    "        total += score\n",
    "\n",
    "avg = total/len(class_score)\n",
    "\n",
    "print(avg)"
   ]
  },
  {
   "cell_type": "markdown",
   "id": "interim-equivalent",
   "metadata": {},
   "source": [
    "- 위 두 코드의 차이는 처음 리스트가 정수형인지 문자열인지의 차이"
   ]
  },
  {
   "cell_type": "markdown",
   "id": "recognized-sitting",
   "metadata": {},
   "source": [
    "## class에 대해서"
   ]
  },
  {
   "cell_type": "code",
   "execution_count": null,
   "id": "informed-ghost",
   "metadata": {},
   "outputs": [],
   "source": []
  }
 ],
 "metadata": {
  "kernelspec": {
   "display_name": "Python 3",
   "language": "python",
   "name": "python3"
  },
  "language_info": {
   "codemirror_mode": {
    "name": "ipython",
    "version": 3
   },
   "file_extension": ".py",
   "mimetype": "text/x-python",
   "name": "python",
   "nbconvert_exporter": "python",
   "pygments_lexer": "ipython3",
   "version": "3.8.5"
  }
 },
 "nbformat": 4,
 "nbformat_minor": 5
}
