{
 "cells": [
  {
   "cell_type": "code",
   "execution_count": 1,
   "id": "driven-parish",
   "metadata": {},
   "outputs": [],
   "source": [
    "# 무인 포스 개발\n",
    "\n",
    "# 관리자 모드\n",
    "# 비밀번호가 설정되어 있음\n",
    "# 메뉴 및 가격을 추가 및 삭제 수정이 가능함\n",
    "\n",
    "\n",
    "# 메뉴 주문 모드\n",
    "\n",
    "# 기본 메뉴\n",
    "# 자장면 = 5000, 짬뽕 = 6000, 볶음밥 = 6000, 탕수육 = 10000\n",
    "\n",
    "# 주문 시 메뉴 종류랑 개수 입력, 테이블 번호도 입력\n",
    "\n",
    "# 테이블 번호를 입력하면 주문한 메뉴 내역이 출력된다\n",
    "\n",
    "# 카드 또는 현금으로 계산할 것인지 선택하고 금액입력하면 결제 완료\n",
    "# 카드 -> 바로 처리 완료, 현금은 잔액 알려줘야함\n",
    "\n",
    "# 결제 내역은 정산을 위해 파일로 저장"
   ]
  },
  {
   "cell_type": "code",
   "execution_count": 27,
   "id": "piano-nation",
   "metadata": {},
   "outputs": [
    {
     "name": "stdout",
     "output_type": "stream",
     "text": [
      "비밀번호를 입력하세요:4444\n",
      "비밀번호 불일치\n",
      "{'자장면': 5000, '짬뽕': 6000, '볶음밥': 6000, '탕수육': 10000}\n"
     ]
    }
   ],
   "source": [
    "class Manager:\n",
    "    def __init__(self):\n",
    "        self.total_price = 0\n",
    "        self.food = ''\n",
    "        self.num = 0\n",
    "        self.table_num = 0\n",
    "        self.menu = {'자장면': 5000, '짬뽕': 6000, '볶음밥': 6000, '탕수육': 10000}\n",
    "        \n",
    "    def Menu_management(self):\n",
    "        password = 1234\n",
    "        pw = int(input('비밀번호를 입력하세요:'))\n",
    "        if pw == 1234:\n",
    "            while True:\n",
    "                option = int(input('1.추가 2.수정 3.삭제 4:종료'))\n",
    "                \n",
    "                if option == 1:\n",
    "                    self.food = input('추가할 메뉴:')\n",
    "                    self.price = int(input('추가할 가격:'))\n",
    "                    self.menu.setdefault(self.food, self.price)\n",
    "                elif option == 2:\n",
    "                    edit_food = input('수정할 메뉴')\n",
    "                    if edit_food in self.menu:\n",
    "                        edit_option = int(input('메뉴 이름도 수정하시겠습니까?(1.예, 2.아니오):'))\n",
    "                        if edit_option == 1:\n",
    "                            self.menu.pop(edit_food)\n",
    "                            self.food = input('메뉴 이름:')\n",
    "                            self.price = int(input('가격:'))\n",
    "                            self.menu.setdefault(self.food, self.price)\n",
    "                        elif edit_option == 0:\n",
    "                            edit_price = int(input('수정할 가격:'))\n",
    "                            self.menu.update(edit_food=edit_price)\n",
    "                    else:\n",
    "                        print('메뉴가 없습니다. 프로그램 종료')\n",
    "                        break\n",
    "                elif option == 3:\n",
    "                    self.food = input('삭제할 메뉴:')\n",
    "                    self.menu.pop(self.food)\n",
    "                elif option == 4:\n",
    "                    break\n",
    "                else:\n",
    "                    print('1,2,3 중 입력하세요')\n",
    "                    continue\n",
    "        else:\n",
    "            print('비밀번호 불일치')\n",
    "            return\n",
    "        \n",
    "        \n",
    "class Customer:\n",
    "    def order(self):\n",
    "        \n",
    "    def payment(self):\n",
    "        \n",
    "class ()\n",
    "    \n",
    "c1 = Chinese()\n",
    "\n",
    "c1.Menu_management()\n",
    "\n",
    "print(c1.menu)"
   ]
  },
  {
   "cell_type": "code",
   "execution_count": null,
   "id": "seeing-valuable",
   "metadata": {},
   "outputs": [],
   "source": [
    "class Calculator:\n",
    "    def __init__(self):\n",
    "        self.result = 0\n",
    "        \n",
    "    def adder(self, num):\n",
    "        self.result += num\n",
    "        return self.result\n",
    "    \n",
    "    def sub(self, num):\n",
    "        self.result -= num\n",
    "        return self.result\n",
    "\n",
    "cal1 = Calculator()\n",
    "cal2 = Calculator()\n",
    "\n",
    "a = cal1.adder(3)\n",
    "print(a)\n",
    "print(cal1.result)"
   ]
  }
 ],
 "metadata": {
  "kernelspec": {
   "display_name": "Python 3",
   "language": "python",
   "name": "python3"
  },
  "language_info": {
   "codemirror_mode": {
    "name": "ipython",
    "version": 3
   },
   "file_extension": ".py",
   "mimetype": "text/x-python",
   "name": "python",
   "nbconvert_exporter": "python",
   "pygments_lexer": "ipython3",
   "version": "3.8.5"
  }
 },
 "nbformat": 4,
 "nbformat_minor": 5
}
