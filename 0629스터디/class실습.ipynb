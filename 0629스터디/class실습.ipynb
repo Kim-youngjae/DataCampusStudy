{
 "cells": [
  {
   "cell_type": "code",
   "execution_count": 31,
   "id": "tamil-population",
   "metadata": {
    "scrolled": true
   },
   "outputs": [
    {
     "name": "stdout",
     "output_type": "stream",
     "text": [
      "2034108554288\n",
      "2034108554000\n"
     ]
    }
   ],
   "source": [
    "class Calculator:\n",
    "    a = 10\n",
    "    b = 20\n",
    "    \n",
    "    \n",
    "    def __init__(self, x, y):\n",
    "        self.x = x\n",
    "        self.y = y\n",
    "        \n",
    "        \n",
    "    def add(self):\n",
    "        return self.x + self.y\n",
    "        \n",
    "\n",
    "    def sub(self, x, y):\n",
    "        return x - y\n",
    "\n",
    "calculator1 = Calculator(268, 4)\n",
    "calculator2 = Calculator(268, 4)\n",
    "\n",
    "print(id(calculator1.x))\n",
    "print(id(calculator2.x))\n",
    "\n"
   ]
  },
  {
   "cell_type": "code",
   "execution_count": 33,
   "id": "driving-bahamas",
   "metadata": {},
   "outputs": [
    {
     "name": "stdout",
     "output_type": "stream",
     "text": [
      "1\n",
      "2\n",
      "1\n"
     ]
    }
   ],
   "source": [
    "class SonCalculator(Calculator):\n",
    "    \n",
    "    def add(self):\n",
    "        return self.x\n",
    "    \n",
    "    def mul(self):\n",
    "        return self.x * self.y\n",
    "    \n",
    "calculator2 = SonCalculator(1, 2)\n",
    "\n",
    "print(calculator2.add())\n",
    "print(calculator2.mul())\n",
    "\n",
    "\n",
    "print(calculator2.x)"
   ]
  },
  {
   "cell_type": "code",
   "execution_count": null,
   "id": "impossible-atmosphere",
   "metadata": {},
   "outputs": [],
   "source": []
  }
 ],
 "metadata": {
  "kernelspec": {
   "display_name": "Python 3",
   "language": "python",
   "name": "python3"
  },
  "language_info": {
   "codemirror_mode": {
    "name": "ipython",
    "version": 3
   },
   "file_extension": ".py",
   "mimetype": "text/x-python",
   "name": "python",
   "nbconvert_exporter": "python",
   "pygments_lexer": "ipython3",
   "version": "3.8.5"
  }
 },
 "nbformat": 4,
 "nbformat_minor": 5
}
