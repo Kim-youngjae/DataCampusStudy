{
 "cells": [
  {
   "cell_type": "markdown",
   "id": "accomplished-composition",
   "metadata": {},
   "source": [
    "# 파이썬 기초 공부"
   ]
  },
  {
   "cell_type": "code",
   "execution_count": 1,
   "id": "congressional-substitute",
   "metadata": {},
   "outputs": [
    {
     "data": {
      "text/plain": [
       "\"python's;\""
      ]
     },
     "execution_count": 1,
     "metadata": {},
     "output_type": "execute_result"
    }
   ],
   "source": [
    "# 문자열을 나타내는 방법\n",
    "\"python's;\""
   ]
  },
  {
   "cell_type": "code",
   "execution_count": 2,
   "id": "frozen-australian",
   "metadata": {},
   "outputs": [],
   "source": [
    "str1 = \"\\\"python is easy\\\"\""
   ]
  },
  {
   "cell_type": "code",
   "execution_count": 3,
   "id": "played-difference",
   "metadata": {},
   "outputs": [
    {
     "name": "stdout",
     "output_type": "stream",
     "text": [
      "he says, \"python is easy\"\n",
      "16\n"
     ]
    }
   ],
   "source": [
    "print('he says, {0}'.format(str1))\n",
    "print(len(str1))"
   ]
  },
  {
   "cell_type": "code",
   "execution_count": 4,
   "id": "adaptive-refund",
   "metadata": {},
   "outputs": [
    {
     "data": {
      "text/plain": [
       "'easy'"
      ]
     },
     "execution_count": 4,
     "metadata": {},
     "output_type": "execute_result"
    }
   ],
   "source": [
    "str1[11:-1]"
   ]
  },
  {
   "cell_type": "code",
   "execution_count": 5,
   "id": "assigned-edinburgh",
   "metadata": {},
   "outputs": [],
   "source": [
    "name = 'hong'\n",
    "age = 24"
   ]
  },
  {
   "cell_type": "code",
   "execution_count": 6,
   "id": "electrical-filter",
   "metadata": {},
   "outputs": [
    {
     "name": "stdout",
     "output_type": "stream",
     "text": [
      "my name is hong and age is 24\n",
      "\n"
     ]
    }
   ],
   "source": [
    "print('my name is %s and age is %d\\n' % (name, age))"
   ]
  },
  {
   "cell_type": "code",
   "execution_count": 7,
   "id": "mathematical-controversy",
   "metadata": {},
   "outputs": [
    {
     "name": "stdout",
     "output_type": "stream",
     "text": [
      "name is hong and age is 24\n"
     ]
    }
   ],
   "source": [
    "print(f'name is {name} and age is {age}')"
   ]
  },
  {
   "cell_type": "code",
   "execution_count": 8,
   "id": "informational-clone",
   "metadata": {},
   "outputs": [],
   "source": [
    "str1 = 'python is good language!'"
   ]
  },
  {
   "cell_type": "code",
   "execution_count": 9,
   "id": "cardiovascular-fraud",
   "metadata": {},
   "outputs": [
    {
     "data": {
      "text/plain": [
       "13"
      ]
     },
     "execution_count": 9,
     "metadata": {},
     "output_type": "execute_result"
    }
   ],
   "source": [
    "str1.find('d')"
   ]
  },
  {
   "cell_type": "code",
   "execution_count": 10,
   "id": "marked-amino",
   "metadata": {},
   "outputs": [
    {
     "data": {
      "text/plain": [
       "13"
      ]
     },
     "execution_count": 10,
     "metadata": {},
     "output_type": "execute_result"
    }
   ],
   "source": [
    "str1.index('d')"
   ]
  },
  {
   "cell_type": "markdown",
   "id": "regulation-matthew",
   "metadata": {},
   "source": [
    "- index 와 find 차이"
   ]
  },
  {
   "cell_type": "code",
   "execution_count": 11,
   "id": "unauthorized-reservoir",
   "metadata": {},
   "outputs": [
    {
     "data": {
      "text/plain": [
       "-1"
      ]
     },
     "execution_count": 11,
     "metadata": {},
     "output_type": "execute_result"
    }
   ],
   "source": [
    "str1.find('f')"
   ]
  },
  {
   "cell_type": "code",
   "execution_count": 12,
   "id": "proprietary-alloy",
   "metadata": {},
   "outputs": [
    {
     "ename": "ValueError",
     "evalue": "substring not found",
     "output_type": "error",
     "traceback": [
      "\u001b[1;31m---------------------------------------------------------------------------\u001b[0m",
      "\u001b[1;31mValueError\u001b[0m                                Traceback (most recent call last)",
      "\u001b[1;32m<ipython-input-12-f4754ae2718c>\u001b[0m in \u001b[0;36m<module>\u001b[1;34m\u001b[0m\n\u001b[1;32m----> 1\u001b[1;33m \u001b[0mstr1\u001b[0m\u001b[1;33m.\u001b[0m\u001b[0mindex\u001b[0m\u001b[1;33m(\u001b[0m\u001b[1;34m'f'\u001b[0m\u001b[1;33m)\u001b[0m \u001b[1;31m# 에러가 뜬다 하지만 에러를 안 띄울 자신이 있거나 예외 처리를 하면 가능하다\u001b[0m\u001b[1;33m\u001b[0m\u001b[1;33m\u001b[0m\u001b[0m\n\u001b[0m",
      "\u001b[1;31mValueError\u001b[0m: substring not found"
     ]
    }
   ],
   "source": [
    "str1.index('f') # 에러가 뜬다 하지만 에러를 안 띄울 자신이 있거나 예외 처리를 하면 가능하다"
   ]
  },
  {
   "cell_type": "code",
   "execution_count": 13,
   "id": "southern-controversy",
   "metadata": {
    "scrolled": true
   },
   "outputs": [
    {
     "name": "stdout",
     "output_type": "stream",
     "text": [
      "값을 입력하세요:1 3\n",
      "1 3\n"
     ]
    }
   ],
   "source": [
    "a, b = map(int, input('값을 입력하세요:').split())\n",
    "print(a,b)"
   ]
  },
  {
   "cell_type": "code",
   "execution_count": 14,
   "id": "supported-vegetarian",
   "metadata": {},
   "outputs": [
    {
     "data": {
      "text/plain": [
       "['Life', 'is', 'too', 'short']"
      ]
     },
     "execution_count": 14,
     "metadata": {},
     "output_type": "execute_result"
    }
   ],
   "source": [
    "a = 'Life is too short'\n",
    "a.split()"
   ]
  },
  {
   "cell_type": "code",
   "execution_count": null,
   "id": "analyzed-dryer",
   "metadata": {},
   "outputs": [],
   "source": []
  }
 ],
 "metadata": {
  "kernelspec": {
   "display_name": "Python 3",
   "language": "python",
   "name": "python3"
  },
  "language_info": {
   "codemirror_mode": {
    "name": "ipython",
    "version": 3
   },
   "file_extension": ".py",
   "mimetype": "text/x-python",
   "name": "python",
   "nbconvert_exporter": "python",
   "pygments_lexer": "ipython3",
   "version": "3.8.5"
  }
 },
 "nbformat": 4,
 "nbformat_minor": 5
}
